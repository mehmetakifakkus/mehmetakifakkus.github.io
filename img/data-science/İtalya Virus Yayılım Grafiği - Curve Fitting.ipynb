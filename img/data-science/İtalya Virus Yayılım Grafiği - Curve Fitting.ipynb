{
 "cells": [
  {
   "cell_type": "markdown",
   "metadata": {},
   "source": [
    "# İtalya Virus Yayılım Grafiği - Curve Fitting Problem\n"
   ]
  },
  {
   "cell_type": "markdown",
   "metadata": {},
   "source": [
    "Bu virüs deli gibi yayılıyor. İşe biraz bilimsel açıdan yaklaşalım. \n",
    "\n",
    "Hani **bilgisayar bilimi** okuyoruz ya. Madem **Data Science** gibi kavramlar da yaygınlaşıyor. İtalya'daki caselerin artış grafiğine curve fit edip, önümüzdeki günlerde neler olabilir bir bakalım. \n",
    "\n",
    "Curve fit edeceğimiz veri aşağıda resimle gösterilmiştir:\n",
    "\n",
    "<img src=\"https://cow.ceng.metu.edu.tr/uploads/default/original/2X/5/5b18c0741964c380b5d8c6aac54dbe364cc3e3c0.png\" alt=\"coronavirus italy graph\" width=\"600px\" align=\"left\">\n",
    "\n"
   ]
  },
  {
   "cell_type": "markdown",
   "metadata": {},
   "source": [
    "Öncelikle aşağıdaki sayfadan İtalya'nın verilerine erişelim:\n",
    "[https://www.worldometers.info/coronavirus/country/italy](https://www.worldometers.info/coronavirus/country/italy)\n",
    "\n",
    "1. Orada \"Total Coronavirus Cases in Italy\" başlıklı grafik üzerinde çalışacağımızı varsayalım.\n",
    "\n",
    "2. Sayfanın üzerinde sağ tuş ---> sayfa kaynağını görüntüle diyelim.\n",
    "CTRL+F arama tuş kombinasyonu ile \"Total Cases\" diye aratalım. \n",
    "\n",
    "<img src=\"https://cow.ceng.metu.edu.tr/uploads/default/original/2X/e/e2c53db7cc5c584d941ee4d909c014890f1aaae4.png\" alt=\"coronavirus italy graph\" width=\"960px\" align=\"center\">\n",
    "\n",
    "\n",
    "3.  Şimdi Python tarafına geçelim. Anaconda **Python 3.7** ve **Jupyter notebook** kurulu olduğunu varsayarak işlemlere devam edelim. Eğer yoksa bunları 5-10 dakika içinde kuralım.\n",
    "\n",
    "4. Aşağıdaki resimlerde adım adım açıklama bulunmaktadır. Onlara bakalım:\n"
   ]
  },
  {
   "cell_type": "markdown",
   "metadata": {},
   "source": [
    "## Öncelikle gerekli kütüphaneleri ekleyelim"
   ]
  },
  {
   "cell_type": "code",
   "execution_count": 2,
   "metadata": {},
   "outputs": [],
   "source": [
    "# bu kütüphane np kısaltmasıyla bütün data işleri için\n",
    "import numpy as np\n",
    "\n",
    "# bu kütüphane grafik çizdirmek için\n",
    "import matplotlib.pyplot as plt"
   ]
  },
  {
   "cell_type": "markdown",
   "metadata": {},
   "source": [
    "## xAxis ve yAxis verilerini site kaynağından kopyalayalım"
   ]
  },
  {
   "cell_type": "code",
   "execution_count": 3,
   "metadata": {},
   "outputs": [
    {
     "data": {
      "text/plain": [
       "<matplotlib.collections.PathCollection at 0x108f69290>"
      ]
     },
     "execution_count": 3,
     "metadata": {},
     "output_type": "execute_result"
    },
    {
     "data": {
      "image/png": "[encoded data removed]",
      "text/plain": [
       "<Figure size 1440x432 with 1 Axes>"
      ]
     },
     "metadata": {
      "needs_background": "light"
     },
     "output_type": "display_data"
    }
   ],
   "source": [
    "x_data = [\"Feb 15\",\"Feb 16\",\"Feb 17\",\"Feb 18\",\"Feb 19\",\"Feb 20\",\"Feb 21\",\"Feb 22\",\"Feb 23\",\"Feb 24\",\"Feb 25\",\"Feb 26\",\"Feb 27\",\"Feb 28\",\"Feb 29\",\"Mar 01\",\"Mar 02\",\"Mar 03\",\"Mar 04\",\"Mar 05\",\"Mar 06\",\"Mar 07\",\"Mar 08\",\"Mar 09\",\"Mar 10\",\"Mar 11\",\"Mar 12\",\"Mar 13\",\"Mar 14\",\"Mar 15\",\"Mar 16\"]\n",
    "y_data = [3,3,3,3,3,4,21,79,157,229,323,470,655,889,1128,1701,2036,2502,3089,3858,4636,5883,7375,9172,10149,12462,15113,17660,21157,24747,27980]\n",
    "\n",
    "x_data = np.arange(1, len(y_data)+1) # x_data'yı 1 .. 31 şeklinde artan gün sayılarına çeviriyoruz.\n",
    "\n",
    "plt.figure(figsize=(20, 6)) # plot boyutunu 20,6 olacak şekilde seçtim\n",
    "plt.scatter(x_data, y_data, color='red') "
   ]
  },
  {
   "cell_type": "markdown",
   "metadata": {},
   "source": [
    "## Data'ya oturtacağımız test fonksiyonunu belirleyelim (tabiki üstsel yani exp)"
   ]
  },
  {
   "cell_type": "code",
   "execution_count": 4,
   "metadata": {},
   "outputs": [
    {
     "name": "stdout",
     "output_type": "stream",
     "text": [
      "Exponential funcion coefficients:\n",
      "[120.02529489   0.17731157]\n",
      "Covariance of coefficients:\n",
      "[[ 1.28120792e+02 -3.69039274e-02]\n",
      " [-3.69039274e-02  1.07314988e-05]]\n"
     ]
    }
   ],
   "source": [
    "from scipy import optimize\n",
    "\n",
    "def test_func(x, a, b):\n",
    "    return a * np.exp(b * x)\n",
    "\n",
    "params, params_cov = optimize.curve_fit(test_func, x_data, y_data)\n",
    "\n",
    "print(\"Exponential funcion coefficients:\") \n",
    "print(params) \n",
    "print(\"Covariance of coefficients:\") \n",
    "print(params_cov) "
   ]
  },
  {
   "cell_type": "code",
   "execution_count": 5,
   "metadata": {},
   "outputs": [],
   "source": [
    "# optimize.curve_fit() fonksiyonunun bize verdiği params[0] ve params[1] parametrelerine\n",
    "# sırasıyla a ve b diyecek olursak genel denklemimiz:\n",
    "# ans = a * e^(b*t) olur (t gün cinsinden zamandır)\n",
    "\n",
    "ans = (params[0]*(np.exp(params[1]*x_data))) "
   ]
  },
  {
   "cell_type": "code",
   "execution_count": 6,
   "metadata": {},
   "outputs": [
    {
     "data": {
      "text/plain": [
       "704.5024033659122"
      ]
     },
     "execution_count": 6,
     "metadata": {},
     "output_type": "execute_result"
    }
   ],
   "source": [
    "# dolayısıyla genel denklemimiz (İtalya için): 120 e^(0.17 * t) şeklindedir.\n",
    "\n",
    "# t=10 için \n",
    "\n",
    "120 * np.exp(0.177 * 10)"
   ]
  },
  {
   "cell_type": "code",
   "execution_count": 7,
   "metadata": {},
   "outputs": [
    {
     "data": {
      "text/plain": [
       "4136.030302902886"
      ]
     },
     "execution_count": 7,
     "metadata": {},
     "output_type": "execute_result"
    }
   ],
   "source": [
    "# t=20 için \n",
    "\n",
    "120 * np.exp(0.177 * 20)"
   ]
  },
  {
   "cell_type": "code",
   "execution_count": 16,
   "metadata": {},
   "outputs": [
    {
     "data": {
      "text/plain": [
       "34595.94448576838"
      ]
     },
     "execution_count": 16,
     "metadata": {},
     "output_type": "execute_result"
    }
   ],
   "source": [
    "# t=32 için \n",
    "\n",
    "120 * np.exp(0.177 * 32)"
   ]
  },
  {
   "cell_type": "code",
   "execution_count": 13,
   "metadata": {},
   "outputs": [
    {
     "data": {
      "text/plain": [
       "58834.9733997621"
      ]
     },
     "execution_count": 13,
     "metadata": {},
     "output_type": "execute_result"
    }
   ],
   "source": [
    "# t=35 için \n",
    "\n",
    "120 * np.exp(0.177 * 35)"
   ]
  },
  {
   "cell_type": "markdown",
   "metadata": {},
   "source": [
    "## ans içinde tutulan curve ile orjinal data'yı aynı yerde plot edelim"
   ]
  },
  {
   "cell_type": "code",
   "execution_count": 5,
   "metadata": {},
   "outputs": [
    {
     "data": {
      "image/png": "[encoded data removed]",
      "text/plain": [
       "<Figure size 1440x432 with 1 Axes>"
      ]
     },
     "metadata": {
      "needs_background": "light"
     },
     "output_type": "display_data"
    }
   ],
   "source": [
    "plt.figure(figsize=(20, 6))\n",
    "plt.scatter(x_data, y_data, color = 'red', label='Data')\n",
    "plt.plot(x_data,  ans, '--', color ='blue', label='Fitted function')\n",
    "\n",
    "plt.legend(loc='best')\n",
    "\n",
    "plt.show()"
   ]
  },
  {
   "cell_type": "markdown",
   "metadata": {},
   "source": [
    "t=35 için **yani 35. gün için** case sayısı çok korkutucu **58.834**. Umarım öyle olmaz, ama istatistik böyle diyor.\n",
    "\n",
    "### Son olarak:\n",
    "\n",
    "Yazımın sonuna geldik. Ödev olarak size bunun Türkiye ya da başka bir ülke versiyonunu yapmanızı tavsiye ederim. Eğer hiç **numpy** vs. tecrübeniz olmamışsa mutlaka uğraşıp elinizi kirletin. Türkiye olarak sonuçlar ürkütecek olsa da tedbiri elden bırakmayarak bir miktar belki sonuçları curve dışına itebiliriz. Allah ya da tanrı ya da neyse yardımcımız olsun..."
   ]
  },
  {
   "cell_type": "markdown",
   "metadata": {},
   "source": [
    "## Referanslar\n",
    "* https://mehmet-akif-akkus.gitbook.io/numpy-ile-veri-bilimi/ozel-diziler\n",
    "* https://jupyter.brynmawr.edu/services/public/dblank/Jupyter%20Notebook%20Users%20Manual.ipynb\n",
    "* http://scipy-lectures.org/intro/scipy/auto_examples/plot_curve_fit.html\n",
    "* https://www.geeksforgeeks.org/scipy-curve-fitting/\n",
    "* https://tr.khanacademy.org/math/algebra2/exponential-growth-and-decay-alg-2\n",
    "* https://idari.cu.edu.tr/sanli/matikt1-5.pdf\n",
    "* https://www.digitalocean.com/community/tutorials/how-to-crawl-a-web-page-with-scrapy-and-python-3"
   ]
  },
  {
   "cell_type": "code",
   "execution_count": null,
   "metadata": {},
   "outputs": [],
   "source": []
  }
 ],
 "metadata": {
  "kernelspec": {
   "display_name": "Python 3",
   "language": "python",
   "name": "python3"
  },
  "language_info": {
   "codemirror_mode": {
    "name": "ipython",
    "version": 3
   },
   "file_extension": ".py",
   "mimetype": "text/x-python",
   "name": "python",
   "nbconvert_exporter": "python",
   "pygments_lexer": "ipython3",
   "version": "3.7.6"
  }
 },
 "nbformat": 4,
 "nbformat_minor": 4
}
